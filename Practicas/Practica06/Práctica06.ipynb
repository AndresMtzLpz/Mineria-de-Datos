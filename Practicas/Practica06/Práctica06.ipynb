{
  "nbformat": 4,
  "nbformat_minor": 0,
  "metadata": {
    "colab": {
      "name": "Práctica06.ipynb",
      "provenance": []
    },
    "kernelspec": {
      "name": "python3",
      "display_name": "Python 3"
    },
    "language_info": {
      "name": "python"
    }
  },
  "cells": [
    {
      "cell_type": "markdown",
      "metadata": {
        "id": "0pX0TM3rmh-j"
      },
      "source": [
        "# **Práctica 06 - Métricas de Similitud**"
      ]
    },
    {
      "cell_type": "markdown",
      "metadata": {
        "id": "A6Nc1xvOmB_m"
      },
      "source": [
        "<ul type=\"none\">\n",
        "<li>Nombre:      <b>Martínez López Andrés</b></li>\n",
        "<li>No. Cuenta:  <b>314138567</b></li>\n",
        "<li>Email:       <b>andres.mtz.cu@gmail.com</b></li>\n",
        "</ul>"
      ]
    },
    {
      "cell_type": "code",
      "metadata": {
        "id": "l7dSmYHJmIpX"
      },
      "source": [
        "import pandas as pd\n",
        "import numpy as np\n",
        "import matplotlib.pyplot as plt\n",
        "import seaborn as sns\n",
        "%matplotlib inline\n",
        "from sklearn.preprocessing import StandardScaler\n",
        "from sklearn.decomposition import PCA"
      ],
      "execution_count": 2,
      "outputs": []
    },
    {
      "cell_type": "code",
      "metadata": {
        "id": "dQea_eDymLSK"
      },
      "source": [
        "url = 'https://raw.githubusercontent.com/AndresMtzLpz/Mineria-de-Datos/master/Practicas/Practica04/Hipoteca.csv'\n",
        "Hipoteca = pd.read_csv(url)"
      ],
      "execution_count": 3,
      "outputs": []
    },
    {
      "cell_type": "code",
      "metadata": {
        "colab": {
          "base_uri": "https://localhost:8080/",
          "height": 419
        },
        "id": "y5_3r59oFySm",
        "outputId": "12375c25-51ca-4705-941d-aecebf790cd7"
      },
      "source": [
        "Hipoteca"
      ],
      "execution_count": 4,
      "outputs": [
        {
          "output_type": "execute_result",
          "data": {
            "text/html": [
              "<div>\n",
              "<style scoped>\n",
              "    .dataframe tbody tr th:only-of-type {\n",
              "        vertical-align: middle;\n",
              "    }\n",
              "\n",
              "    .dataframe tbody tr th {\n",
              "        vertical-align: top;\n",
              "    }\n",
              "\n",
              "    .dataframe thead th {\n",
              "        text-align: right;\n",
              "    }\n",
              "</style>\n",
              "<table border=\"1\" class=\"dataframe\">\n",
              "  <thead>\n",
              "    <tr style=\"text-align: right;\">\n",
              "      <th></th>\n",
              "      <th>ingresos</th>\n",
              "      <th>gastos_comunes</th>\n",
              "      <th>pago_coche</th>\n",
              "      <th>gastos_otros</th>\n",
              "      <th>ahorros</th>\n",
              "      <th>vivienda</th>\n",
              "      <th>estado_civil</th>\n",
              "      <th>hijos</th>\n",
              "      <th>trabajo</th>\n",
              "      <th>comprar</th>\n",
              "    </tr>\n",
              "  </thead>\n",
              "  <tbody>\n",
              "    <tr>\n",
              "      <th>0</th>\n",
              "      <td>6000</td>\n",
              "      <td>1000</td>\n",
              "      <td>0</td>\n",
              "      <td>600</td>\n",
              "      <td>50000</td>\n",
              "      <td>400000</td>\n",
              "      <td>0</td>\n",
              "      <td>2</td>\n",
              "      <td>2</td>\n",
              "      <td>1</td>\n",
              "    </tr>\n",
              "    <tr>\n",
              "      <th>1</th>\n",
              "      <td>6745</td>\n",
              "      <td>944</td>\n",
              "      <td>123</td>\n",
              "      <td>429</td>\n",
              "      <td>43240</td>\n",
              "      <td>636897</td>\n",
              "      <td>1</td>\n",
              "      <td>3</td>\n",
              "      <td>6</td>\n",
              "      <td>0</td>\n",
              "    </tr>\n",
              "    <tr>\n",
              "      <th>2</th>\n",
              "      <td>6455</td>\n",
              "      <td>1033</td>\n",
              "      <td>98</td>\n",
              "      <td>795</td>\n",
              "      <td>57463</td>\n",
              "      <td>321779</td>\n",
              "      <td>2</td>\n",
              "      <td>1</td>\n",
              "      <td>8</td>\n",
              "      <td>1</td>\n",
              "    </tr>\n",
              "    <tr>\n",
              "      <th>3</th>\n",
              "      <td>7098</td>\n",
              "      <td>1278</td>\n",
              "      <td>15</td>\n",
              "      <td>254</td>\n",
              "      <td>54506</td>\n",
              "      <td>660933</td>\n",
              "      <td>0</td>\n",
              "      <td>0</td>\n",
              "      <td>3</td>\n",
              "      <td>0</td>\n",
              "    </tr>\n",
              "    <tr>\n",
              "      <th>4</th>\n",
              "      <td>6167</td>\n",
              "      <td>863</td>\n",
              "      <td>223</td>\n",
              "      <td>520</td>\n",
              "      <td>41512</td>\n",
              "      <td>348932</td>\n",
              "      <td>0</td>\n",
              "      <td>0</td>\n",
              "      <td>3</td>\n",
              "      <td>1</td>\n",
              "    </tr>\n",
              "    <tr>\n",
              "      <th>...</th>\n",
              "      <td>...</td>\n",
              "      <td>...</td>\n",
              "      <td>...</td>\n",
              "      <td>...</td>\n",
              "      <td>...</td>\n",
              "      <td>...</td>\n",
              "      <td>...</td>\n",
              "      <td>...</td>\n",
              "      <td>...</td>\n",
              "      <td>...</td>\n",
              "    </tr>\n",
              "    <tr>\n",
              "      <th>197</th>\n",
              "      <td>3831</td>\n",
              "      <td>690</td>\n",
              "      <td>352</td>\n",
              "      <td>488</td>\n",
              "      <td>10723</td>\n",
              "      <td>363120</td>\n",
              "      <td>0</td>\n",
              "      <td>0</td>\n",
              "      <td>2</td>\n",
              "      <td>0</td>\n",
              "    </tr>\n",
              "    <tr>\n",
              "      <th>198</th>\n",
              "      <td>3961</td>\n",
              "      <td>1030</td>\n",
              "      <td>270</td>\n",
              "      <td>475</td>\n",
              "      <td>21880</td>\n",
              "      <td>280421</td>\n",
              "      <td>2</td>\n",
              "      <td>3</td>\n",
              "      <td>8</td>\n",
              "      <td>0</td>\n",
              "    </tr>\n",
              "    <tr>\n",
              "      <th>199</th>\n",
              "      <td>3184</td>\n",
              "      <td>955</td>\n",
              "      <td>276</td>\n",
              "      <td>684</td>\n",
              "      <td>35565</td>\n",
              "      <td>388025</td>\n",
              "      <td>1</td>\n",
              "      <td>3</td>\n",
              "      <td>8</td>\n",
              "      <td>0</td>\n",
              "    </tr>\n",
              "    <tr>\n",
              "      <th>200</th>\n",
              "      <td>3334</td>\n",
              "      <td>867</td>\n",
              "      <td>369</td>\n",
              "      <td>652</td>\n",
              "      <td>19985</td>\n",
              "      <td>376892</td>\n",
              "      <td>1</td>\n",
              "      <td>2</td>\n",
              "      <td>5</td>\n",
              "      <td>0</td>\n",
              "    </tr>\n",
              "    <tr>\n",
              "      <th>201</th>\n",
              "      <td>3988</td>\n",
              "      <td>1157</td>\n",
              "      <td>105</td>\n",
              "      <td>382</td>\n",
              "      <td>11980</td>\n",
              "      <td>257580</td>\n",
              "      <td>0</td>\n",
              "      <td>0</td>\n",
              "      <td>4</td>\n",
              "      <td>0</td>\n",
              "    </tr>\n",
              "  </tbody>\n",
              "</table>\n",
              "<p>202 rows × 10 columns</p>\n",
              "</div>"
            ],
            "text/plain": [
              "     ingresos  gastos_comunes  pago_coche  ...  hijos  trabajo  comprar\n",
              "0        6000            1000           0  ...      2        2        1\n",
              "1        6745             944         123  ...      3        6        0\n",
              "2        6455            1033          98  ...      1        8        1\n",
              "3        7098            1278          15  ...      0        3        0\n",
              "4        6167             863         223  ...      0        3        1\n",
              "..        ...             ...         ...  ...    ...      ...      ...\n",
              "197      3831             690         352  ...      0        2        0\n",
              "198      3961            1030         270  ...      3        8        0\n",
              "199      3184             955         276  ...      3        8        0\n",
              "200      3334             867         369  ...      2        5        0\n",
              "201      3988            1157         105  ...      0        4        0\n",
              "\n",
              "[202 rows x 10 columns]"
            ]
          },
          "metadata": {
            "tags": []
          },
          "execution_count": 4
        }
      ]
    },
    {
      "cell_type": "markdown",
      "metadata": {
        "id": "t8WAkVXZnvG1"
      },
      "source": [
        "## **0.- Ejemplos de Clase**"
      ]
    },
    {
      "cell_type": "markdown",
      "metadata": {
        "id": "nplD9oF4jEaS"
      },
      "source": [
        "### 1.- Distancia Euclidiana"
      ]
    },
    {
      "cell_type": "code",
      "metadata": {
        "colab": {
          "base_uri": "https://localhost:8080/"
        },
        "id": "wM-GGwHIjHSx",
        "outputId": "25a7a026-15d6-462f-de30-a403dd645e5a"
      },
      "source": [
        "from scipy.spatial import distance\n",
        "E1 = (10000,1,0,0,0,0,7,15,1)\n",
        "E2 = (20000,0,1,1,0,1,3,3,0)\n",
        "dstEuclidiana = distance.euclidean(E1, E2)\n",
        "dstEuclidiana"
      ],
      "execution_count": 5,
      "outputs": [
        {
          "output_type": "execute_result",
          "data": {
            "text/plain": [
              "10000.008249996597"
            ]
          },
          "metadata": {
            "tags": []
          },
          "execution_count": 5
        }
      ]
    },
    {
      "cell_type": "code",
      "metadata": {
        "colab": {
          "base_uri": "https://localhost:8080/"
        },
        "id": "aJcGSxECj57r",
        "outputId": "4fcd291c-539e-4f22-8360-e08266ea7ce9"
      },
      "source": [
        "from math import sqrt\n",
        "E1 = (10000,1,0,0,0,0,7,15,1) #Datos del punto 1\n",
        "E2 = (20000,0,1,1,0,1,3,3,0) #Datos del punto 2\n",
        "#La funcion zip() es un iterador de tuplas\n",
        "dst1 = sqrt(sum((E1-E2)**2 for E1, E2 in zip(E1, E2)))\n",
        "dst1"
      ],
      "execution_count": 6,
      "outputs": [
        {
          "output_type": "execute_result",
          "data": {
            "text/plain": [
              "10000.008249996597"
            ]
          },
          "metadata": {
            "tags": []
          },
          "execution_count": 6
        }
      ]
    },
    {
      "cell_type": "code",
      "metadata": {
        "colab": {
          "base_uri": "https://localhost:8080/"
        },
        "id": "pGMFVe73jfgv",
        "outputId": "ac55ca0d-f6ff-484c-b03b-d141b132f306"
      },
      "source": [
        "import numpy as np\n",
        "import matplotlib.pyplot as plt\n",
        "E1 = np.array([10000,1,0,0,0,0,7,15,1])\n",
        "E2 = np.array([20000,0,1,1,0,1,3,3,0])\n",
        "dst2 = np.sqrt(np.sum((E1-E2)**2))\n",
        "dst2"
      ],
      "execution_count": 7,
      "outputs": [
        {
          "output_type": "execute_result",
          "data": {
            "text/plain": [
              "10000.008249996597"
            ]
          },
          "metadata": {
            "tags": []
          },
          "execution_count": 7
        }
      ]
    },
    {
      "cell_type": "markdown",
      "metadata": {
        "id": "8Y1gsgqOkUF1"
      },
      "source": [
        "### 2.- Distancia de Chebyshev"
      ]
    },
    {
      "cell_type": "code",
      "metadata": {
        "colab": {
          "base_uri": "https://localhost:8080/"
        },
        "id": "sFx7tB-6kXz2",
        "outputId": "4da68754-c8e3-4834-f106-b43c297c834a"
      },
      "source": [
        "from scipy.spatial import distance\n",
        "E1 = (10000,1,0,0,0,0,7,15,1)\n",
        "E2 = (20000,0,1,1,0,1,3,3,0)\n",
        "dstChebyshev = distance.chebyshev(E1, E2)\n",
        "dstChebyshev"
      ],
      "execution_count": 8,
      "outputs": [
        {
          "output_type": "execute_result",
          "data": {
            "text/plain": [
              "10000"
            ]
          },
          "metadata": {
            "tags": []
          },
          "execution_count": 8
        }
      ]
    },
    {
      "cell_type": "markdown",
      "metadata": {
        "id": "RTSC8gCSkhex"
      },
      "source": [
        "### 3.- Distancia de Manhattan"
      ]
    },
    {
      "cell_type": "code",
      "metadata": {
        "colab": {
          "base_uri": "https://localhost:8080/"
        },
        "id": "4hY6nW_KklTe",
        "outputId": "680b56c5-052a-471a-8a6c-ad72d406dc75"
      },
      "source": [
        "from scipy.spatial import distance\n",
        "E1 = (10000,1,0,0,0,0,7,15,1)\n",
        "E2 = (20000,0,1,1,0,1,3,3,0)\n",
        "dstManhattan = distance.cityblock(E1, E2)\n",
        "dstManhattan"
      ],
      "execution_count": 9,
      "outputs": [
        {
          "output_type": "execute_result",
          "data": {
            "text/plain": [
              "10021"
            ]
          },
          "metadata": {
            "tags": []
          },
          "execution_count": 9
        }
      ]
    },
    {
      "cell_type": "markdown",
      "metadata": {
        "id": "pdy5T8Kvksf8"
      },
      "source": [
        "### 4.- Distancia de Minkowski\n"
      ]
    },
    {
      "cell_type": "code",
      "metadata": {
        "colab": {
          "base_uri": "https://localhost:8080/"
        },
        "id": "NEv6ElKrkxmC",
        "outputId": "d46571f1-3f83-426a-ad04-d3f4d217862a"
      },
      "source": [
        "from scipy.spatial import distance\n",
        "E1 = (10000,1,0,0,0,0,7,15,1)\n",
        "E2 = (20000,0,1,1,0,1,3,3,0)\n",
        "dstMinkowski = distance.minkowski(E1, E2, 1.5)\n",
        "dstMinkowski"
      ],
      "execution_count": 10,
      "outputs": [
        {
          "output_type": "execute_result",
          "data": {
            "text/plain": [
              "10000.363791487287"
            ]
          },
          "metadata": {
            "tags": []
          },
          "execution_count": 10
        }
      ]
    },
    {
      "cell_type": "markdown",
      "metadata": {
        "id": "pg97jX92k_nz"
      },
      "source": [
        "### 5.- Distancia de Hamming"
      ]
    },
    {
      "cell_type": "code",
      "metadata": {
        "id": "rOPbEd1PlCh2"
      },
      "source": [
        "#Cadenas\n",
        "cadena_1 = 'Distancias'\n",
        "cadena_2 = 'Distorsión'"
      ],
      "execution_count": 11,
      "outputs": []
    },
    {
      "cell_type": "code",
      "metadata": {
        "colab": {
          "base_uri": "https://localhost:8080/"
        },
        "id": "WUs6XxAqlLSA",
        "outputId": "c78e3cd8-0abe-4cdd-f66d-ca829b3627c1"
      },
      "source": [
        "from scipy.spatial import distance\n",
        "dstHamming = distance.hamming(list(cadena_1), list(cadena_2)) * len(cadena_1)\n",
        "dstHamming"
      ],
      "execution_count": 12,
      "outputs": [
        {
          "output_type": "execute_result",
          "data": {
            "text/plain": [
              "5.0"
            ]
          },
          "metadata": {
            "tags": []
          },
          "execution_count": 12
        }
      ]
    },
    {
      "cell_type": "code",
      "metadata": {
        "colab": {
          "base_uri": "https://localhost:8080/"
        },
        "id": "2M79xr8plc1N",
        "outputId": "18b70282-4082-4c89-f631-0522c1f09413"
      },
      "source": [
        "from scipy.spatial import distance\n",
        "dstHamming = distance.hamming(list('euclidean'), list('manhattan')) * len('euclidean')\n",
        "dstHamming"
      ],
      "execution_count": 13,
      "outputs": [
        {
          "output_type": "execute_result",
          "data": {
            "text/plain": [
              "7.0"
            ]
          },
          "metadata": {
            "tags": []
          },
          "execution_count": 13
        }
      ]
    },
    {
      "cell_type": "markdown",
      "metadata": {
        "id": "HLj-JMOampiV"
      },
      "source": [
        "## **1.- Matriz de distancias: Euclidiana**"
      ]
    },
    {
      "cell_type": "code",
      "metadata": {
        "id": "9YqJfRy-mNaw"
      },
      "source": [
        "from scipy.spatial.distance import cdist\n",
        "Distancias = cdist(Hipoteca, Hipoteca, metric='euclidean')\n",
        "MEuclidiana = pd.DataFrame(Distancias)"
      ],
      "execution_count": 14,
      "outputs": []
    },
    {
      "cell_type": "code",
      "metadata": {
        "colab": {
          "base_uri": "https://localhost:8080/"
        },
        "id": "BN2iB_HmmdxF",
        "outputId": "a88c8499-ec2a-4309-a655-7a0ea0d7a27c"
      },
      "source": [
        "print(MEuclidiana)"
      ],
      "execution_count": 15,
      "outputs": [
        {
          "output_type": "stream",
          "text": [
            "               0              1    ...            200            201\n",
            "0         0.000000  236994.701964  ...   37975.571227  147421.532182\n",
            "1    236994.701964       0.000000  ...  261065.405879  380612.957023\n",
            "2     78577.840350  315439.176808  ...   66722.600009   78717.767975\n",
            "3    260974.591407   26550.527773  ...  286156.617026  405600.560294\n",
            "4     51769.581416  287970.807817  ...   35401.101452   96032.256950\n",
            "..             ...            ...  ...            ...            ...\n",
            "197   53923.596347  275716.907131  ...   16605.967753  105548.977428\n",
            "198  122858.123985  357126.266127  ...   96491.998140   24895.261437\n",
            "199   18967.999420  249015.957900  ...   19149.935143  132563.033841\n",
            "200   37975.571227  261065.405879  ...       0.000000  119582.974486\n",
            "201  147421.532182  380612.957023  ...  119582.974486       0.000000\n",
            "\n",
            "[202 rows x 202 columns]\n"
          ],
          "name": "stdout"
        }
      ]
    },
    {
      "cell_type": "markdown",
      "metadata": {
        "id": "hTKIKcH6mwLs"
      },
      "source": [
        "## **2.- Matriz de distancias: Chebyshev**"
      ]
    },
    {
      "cell_type": "code",
      "metadata": {
        "id": "_K-QGNgymzb8"
      },
      "source": [
        "from scipy.spatial.distance import cdist\n",
        "Distancias = cdist(Hipoteca, Hipoteca, metric='chebyshev')\n",
        "MChebyshev = pd.DataFrame(Distancias)"
      ],
      "execution_count": 16,
      "outputs": []
    },
    {
      "cell_type": "code",
      "metadata": {
        "colab": {
          "base_uri": "https://localhost:8080/"
        },
        "id": "k9-7IieIm4Bp",
        "outputId": "0f80b126-01de-4efb-b779-1cef92f50d11"
      },
      "source": [
        "print(MChebyshev)"
      ],
      "execution_count": 17,
      "outputs": [
        {
          "output_type": "stream",
          "text": [
            "          0         1         2    ...       199       200       201\n",
            "0         0.0  236897.0   78221.0  ...   14435.0   30015.0  142420.0\n",
            "1    236897.0       0.0  315118.0  ...  248872.0  260005.0  379317.0\n",
            "2     78221.0  315118.0       0.0  ...   66246.0   55113.0   64199.0\n",
            "3    260933.0   24036.0  339154.0  ...  272908.0  284041.0  403353.0\n",
            "4     51068.0  287965.0   27153.0  ...   39093.0   27960.0   91352.0\n",
            "..        ...       ...       ...  ...       ...       ...       ...\n",
            "197   39277.0  273777.0   46740.0  ...   24905.0   13772.0  105540.0\n",
            "198  119579.0  356476.0   41358.0  ...  107604.0   96471.0   22841.0\n",
            "199   14435.0  248872.0   66246.0  ...       0.0   15580.0  130445.0\n",
            "200   30015.0  260005.0   55113.0  ...   15580.0       0.0  119312.0\n",
            "201  142420.0  379317.0   64199.0  ...  130445.0  119312.0       0.0\n",
            "\n",
            "[202 rows x 202 columns]\n"
          ],
          "name": "stdout"
        }
      ]
    },
    {
      "cell_type": "markdown",
      "metadata": {
        "id": "v9K_fQTonArP"
      },
      "source": [
        "## **3.- Matriz de distancias: Manhattan**"
      ]
    },
    {
      "cell_type": "code",
      "metadata": {
        "id": "Y-QCXmZfnGbg"
      },
      "source": [
        "from scipy.spatial.distance import cdist\n",
        "Distancias = cdist(Hipoteca, Hipoteca, metric='cityblock')\n",
        "MManhattan = pd.DataFrame(Distancias)"
      ],
      "execution_count": 18,
      "outputs": []
    },
    {
      "cell_type": "code",
      "metadata": {
        "colab": {
          "base_uri": "https://localhost:8080/"
        },
        "id": "5TptkeoWnMCM",
        "outputId": "be78907d-5e25-4449-caee-9b18afbb4081"
      },
      "source": [
        "print(MManhattan)"
      ],
      "execution_count": 19,
      "outputs": [
        {
          "output_type": "stream",
          "text": [
            "          0         1         2    ...       199       200       201\n",
            "0         0.0  244759.0   86474.0  ...   29640.0   56348.0  182937.0\n",
            "1    244759.0       0.0  330117.0  ...  260529.0  287219.0  413618.0\n",
            "2     86474.0  330117.0       0.0  ...   91786.0   96298.0  112701.0\n",
            "3    267180.0   36279.0  343632.0  ...  296786.0  323494.0  449329.0\n",
            "4     60166.0  290551.0   43970.0  ...   48342.0   52608.0  123615.0\n",
            "..        ...       ...       ...  ...       ...       ...       ...\n",
            "197   79103.0  309758.0   91619.0  ...   50941.0   23895.0  107776.0\n",
            "198  150173.0  380902.0   79933.0  ...  122357.0   99437.0   33162.0\n",
            "199   29640.0  260529.0   91786.0  ...       0.0   27080.0  155517.0\n",
            "200   56348.0  287219.0   96298.0  ...   27080.0       0.0  128799.0\n",
            "201  182937.0  413618.0  112701.0  ...  155517.0  128799.0       0.0\n",
            "\n",
            "[202 rows x 202 columns]\n"
          ],
          "name": "stdout"
        }
      ]
    },
    {
      "cell_type": "markdown",
      "metadata": {
        "id": "6CmSk8ADnWFQ"
      },
      "source": [
        "## **4.- Matriz de distancias: Minkowski**"
      ]
    },
    {
      "cell_type": "code",
      "metadata": {
        "id": "LbAfTjJDnc6Z"
      },
      "source": [
        "from scipy.spatial.distance import cdist\n",
        "Distancias = cdist(Hipoteca, Hipoteca, metric='minkowski',p=1.5)\n",
        "MMinkowski = pd.DataFrame(Distancias)"
      ],
      "execution_count": 20,
      "outputs": []
    },
    {
      "cell_type": "code",
      "metadata": {
        "colab": {
          "base_uri": "https://localhost:8080/"
        },
        "id": "4uyXQAdWnjMt",
        "outputId": "81f39d37-7f6e-47dc-d8e8-0349fb03f1af"
      },
      "source": [
        "print(MMinkowski)"
      ],
      "execution_count": 21,
      "outputs": [
        {
          "output_type": "stream",
          "text": [
            "               0              1    ...            200            201\n",
            "0         0.000000  237690.995925  ...   42815.775409  155395.390030\n",
            "1    237690.995925       0.000000  ...  264889.398939  385435.511309\n",
            "2     79782.466760  317144.541987  ...   74602.554581   87986.061870\n",
            "3    261389.573558   28999.550044  ...  292321.617039  412690.548292\n",
            "4     53372.216100  288074.733923  ...   39959.337646  102457.030136\n",
            "..             ...            ...  ...            ...            ...\n",
            "197   60770.233816  281405.644842  ...   18533.862289  105666.374403\n",
            "198  128687.635109  360119.702102  ...   96693.282992   27020.702704\n",
            "199   21714.620373  250061.119850  ...   21366.111532  137107.587276\n",
            "200   42815.775409  264889.398939  ...       0.000000  120748.666597\n",
            "201  155395.390030  385435.511309  ...  120748.666597       0.000000\n",
            "\n",
            "[202 rows x 202 columns]\n"
          ],
          "name": "stdout"
        }
      ]
    }
  ]
}